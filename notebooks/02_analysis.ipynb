{
 "cells": [
  {
   "cell_type": "code",
   "id": "initial_id",
   "metadata": {
    "collapsed": true,
    "ExecuteTime": {
     "end_time": "2025-04-18T07:53:11.294678Z",
     "start_time": "2025-04-18T07:53:11.291725Z"
    }
   },
   "source": [
    "import pandas as pd\n",
    "import numpy as np\n",
    "import sqlalchemy\n",
    "import matplotlib.pyplot as plt\n",
    "import plotly.express as px\n",
    "import csv\n",
    "from pathlib import Path"
   ],
   "outputs": [],
   "execution_count": 3
  },
  {
   "metadata": {
    "ExecuteTime": {
     "end_time": "2025-04-18T08:00:07.150676Z",
     "start_time": "2025-04-18T08:00:07.147903Z"
    }
   },
   "cell_type": "code",
   "source": [
    "BASE = Path().resolve().parent\n",
    "\n",
    "DATA_RAW   = BASE / \"data_raw\"\n",
    "DATA_CLEAN = BASE / \"data_clean\"\n",
    "\n",
    "print(\"RAW exists:\", DATA_RAW.exists(), \"→\", DATA_RAW)\n",
    "print(\"CLEAN exists:\", DATA_CLEAN.exists(), \"→\", DATA_CLEAN)"
   ],
   "id": "9abf4f9a06a00959",
   "outputs": [
    {
     "name": "stdout",
     "output_type": "stream",
     "text": [
      "RAW exists: True → /Users/milan91/Theme_Parks/data_raw\n",
      "CLEAN exists: True → /Users/milan91/Theme_Parks/data_clean\n"
     ]
    }
   ],
   "execution_count": 10
  },
  {
   "metadata": {
    "ExecuteTime": {
     "end_time": "2025-04-18T08:02:03.825513Z",
     "start_time": "2025-04-18T08:02:03.822896Z"
    }
   },
   "cell_type": "code",
   "source": [
    "# Helper to detect delimiter\n",
    "def sniff_sep(path):\n",
    "    sample = Path(path).read_text(encoding=\"utf-8\", errors=\"replace\")[:2048]\n",
    "    try:\n",
    "        dialect = csv.Sniffer().sniff(sample, delimiters=[',',';','\\t','|'])\n",
    "        return dialect.delimiter\n",
    "    except:\n",
    "        return ','"
   ],
   "id": "4a72b92db3cdef10",
   "outputs": [],
   "execution_count": 12
  },
  {
   "metadata": {
    "ExecuteTime": {
     "end_time": "2025-04-18T08:00:45.770327Z",
     "start_time": "2025-04-18T08:00:45.630326Z"
    }
   },
   "cell_type": "code",
   "source": [
    "# 1. Load cleaned Parquets\n",
    "dim_park        = pd.read_parquet(DATA_CLEAN/\"dim_park.parquet\")\n",
    "dim_ride        = pd.read_parquet(DATA_CLEAN/\"dim_ride.parquet\")\n",
    "fact_attendance = pd.read_parquet(DATA_CLEAN/\"fact_attendance.parquet\")\n",
    "fact_wait       = pd.read_parquet(DATA_CLEAN/\"fact_wait.parquet\")"
   ],
   "id": "4603f1c3721f8983",
   "outputs": [],
   "execution_count": 11
  },
  {
   "metadata": {
    "ExecuteTime": {
     "end_time": "2025-04-18T08:17:19.916418Z",
     "start_time": "2025-04-18T08:17:19.688238Z"
    }
   },
   "cell_type": "code",
   "source": [
    "sep = sniff_sep(DATA_RAW / \"weather_data.csv\")\n",
    "weather = pd.read_csv(DATA_RAW / \"weather_data.csv\", sep=sep, encoding=\"utf-8\")\n",
    "weather.columns = weather.columns.str.strip().str.upper()"
   ],
   "id": "1fbff97e8a9717c7",
   "outputs": [],
   "execution_count": 35
  },
  {
   "metadata": {
    "ExecuteTime": {
     "end_time": "2025-04-18T08:17:32.601293Z",
     "start_time": "2025-04-18T08:17:32.530094Z"
    }
   },
   "cell_type": "code",
   "source": [
    "# 3. Keep only \"YYYY-MM-DD HH:MM:SS\" (first 19 chars)\n",
    "weather['DT_CLEAN'] = weather['DT_ISO'].str.slice(0, 19)\n",
    "\n",
    "# 4. Parse that into a datetime\n",
    "weather['DATETIME'] = pd.to_datetime(\n",
    "    weather['DT_CLEAN'],\n",
    "    format=\"%Y-%m-%d %H:%M:%S\",\n",
    "    errors=\"coerce\"\n",
    ")\n",
    "\n",
    "# 5. Extract the date for joins\n",
    "weather['DATE'] = weather['DATETIME'].dt.date"
   ],
   "id": "9f0934a9c3ec92e3",
   "outputs": [],
   "execution_count": 37
  },
  {
   "metadata": {
    "ExecuteTime": {
     "end_time": "2025-04-18T08:54:35.458042Z",
     "start_time": "2025-04-18T08:54:35.448257Z"
    }
   },
   "cell_type": "code",
   "source": "weather.head()",
   "id": "25660fa4189d3ef7",
   "outputs": [
    {
     "data": {
      "text/plain": [
       "          DT                         DT_ISO  TIMEZONE        CITY_NAME  \\\n",
       "0  915148800  1999-01-01 00:00:00 +0000 UTC      3600  Custom location   \n",
       "1  915152400  1999-01-01 01:00:00 +0000 UTC      3600  Custom location   \n",
       "2  915156000  1999-01-01 02:00:00 +0000 UTC      3600  Custom location   \n",
       "3  915159600  1999-01-01 03:00:00 +0000 UTC      3600  Custom location   \n",
       "4  915163200  1999-01-01 04:00:00 +0000 UTC      3600  Custom location   \n",
       "\n",
       "         LAT       LON  TEMP  VISIBILITY  DEW_POINT  FEELS_LIKE  ...  SNOW_1H  \\\n",
       "0  48.873492  2.295104  8.33         NaN       3.39        5.28  ...      NaN   \n",
       "1  48.873492  2.295104  8.08         NaN       3.54        5.18  ...      NaN   \n",
       "2  48.873492  2.295104  8.08         NaN       4.11        5.38  ...      NaN   \n",
       "3  48.873492  2.295104  7.31         NaN       3.73        4.42  ...      NaN   \n",
       "4  48.873492  2.295104  6.91         NaN       3.53        4.00  ...      NaN   \n",
       "\n",
       "   SNOW_3H  CLOUDS_ALL  WEATHER_ID  WEATHER_MAIN  WEATHER_DESCRIPTION  \\\n",
       "0      NaN           8         800         Clear         sky is clear   \n",
       "1      NaN           6         800         Clear         sky is clear   \n",
       "2      NaN          14         801        Clouds           few clouds   \n",
       "3      NaN          39         802        Clouds     scattered clouds   \n",
       "4      NaN          52         803        Clouds        broken clouds   \n",
       "\n",
       "   WEATHER_ICON             DT_CLEAN            DATETIME        DATE  \n",
       "0           01n  1999-01-01 00:00:00 1999-01-01 00:00:00  1999-01-01  \n",
       "1           01n  1999-01-01 01:00:00 1999-01-01 01:00:00  1999-01-01  \n",
       "2           02n  1999-01-01 02:00:00 1999-01-01 02:00:00  1999-01-01  \n",
       "3           03n  1999-01-01 03:00:00 1999-01-01 03:00:00  1999-01-01  \n",
       "4           04n  1999-01-01 04:00:00 1999-01-01 04:00:00  1999-01-01  \n",
       "\n",
       "[5 rows x 31 columns]"
      ],
      "text/html": [
       "<div>\n",
       "<style scoped>\n",
       "    .dataframe tbody tr th:only-of-type {\n",
       "        vertical-align: middle;\n",
       "    }\n",
       "\n",
       "    .dataframe tbody tr th {\n",
       "        vertical-align: top;\n",
       "    }\n",
       "\n",
       "    .dataframe thead th {\n",
       "        text-align: right;\n",
       "    }\n",
       "</style>\n",
       "<table border=\"1\" class=\"dataframe\">\n",
       "  <thead>\n",
       "    <tr style=\"text-align: right;\">\n",
       "      <th></th>\n",
       "      <th>DT</th>\n",
       "      <th>DT_ISO</th>\n",
       "      <th>TIMEZONE</th>\n",
       "      <th>CITY_NAME</th>\n",
       "      <th>LAT</th>\n",
       "      <th>LON</th>\n",
       "      <th>TEMP</th>\n",
       "      <th>VISIBILITY</th>\n",
       "      <th>DEW_POINT</th>\n",
       "      <th>FEELS_LIKE</th>\n",
       "      <th>...</th>\n",
       "      <th>SNOW_1H</th>\n",
       "      <th>SNOW_3H</th>\n",
       "      <th>CLOUDS_ALL</th>\n",
       "      <th>WEATHER_ID</th>\n",
       "      <th>WEATHER_MAIN</th>\n",
       "      <th>WEATHER_DESCRIPTION</th>\n",
       "      <th>WEATHER_ICON</th>\n",
       "      <th>DT_CLEAN</th>\n",
       "      <th>DATETIME</th>\n",
       "      <th>DATE</th>\n",
       "    </tr>\n",
       "  </thead>\n",
       "  <tbody>\n",
       "    <tr>\n",
       "      <th>0</th>\n",
       "      <td>915148800</td>\n",
       "      <td>1999-01-01 00:00:00 +0000 UTC</td>\n",
       "      <td>3600</td>\n",
       "      <td>Custom location</td>\n",
       "      <td>48.873492</td>\n",
       "      <td>2.295104</td>\n",
       "      <td>8.33</td>\n",
       "      <td>NaN</td>\n",
       "      <td>3.39</td>\n",
       "      <td>5.28</td>\n",
       "      <td>...</td>\n",
       "      <td>NaN</td>\n",
       "      <td>NaN</td>\n",
       "      <td>8</td>\n",
       "      <td>800</td>\n",
       "      <td>Clear</td>\n",
       "      <td>sky is clear</td>\n",
       "      <td>01n</td>\n",
       "      <td>1999-01-01 00:00:00</td>\n",
       "      <td>1999-01-01 00:00:00</td>\n",
       "      <td>1999-01-01</td>\n",
       "    </tr>\n",
       "    <tr>\n",
       "      <th>1</th>\n",
       "      <td>915152400</td>\n",
       "      <td>1999-01-01 01:00:00 +0000 UTC</td>\n",
       "      <td>3600</td>\n",
       "      <td>Custom location</td>\n",
       "      <td>48.873492</td>\n",
       "      <td>2.295104</td>\n",
       "      <td>8.08</td>\n",
       "      <td>NaN</td>\n",
       "      <td>3.54</td>\n",
       "      <td>5.18</td>\n",
       "      <td>...</td>\n",
       "      <td>NaN</td>\n",
       "      <td>NaN</td>\n",
       "      <td>6</td>\n",
       "      <td>800</td>\n",
       "      <td>Clear</td>\n",
       "      <td>sky is clear</td>\n",
       "      <td>01n</td>\n",
       "      <td>1999-01-01 01:00:00</td>\n",
       "      <td>1999-01-01 01:00:00</td>\n",
       "      <td>1999-01-01</td>\n",
       "    </tr>\n",
       "    <tr>\n",
       "      <th>2</th>\n",
       "      <td>915156000</td>\n",
       "      <td>1999-01-01 02:00:00 +0000 UTC</td>\n",
       "      <td>3600</td>\n",
       "      <td>Custom location</td>\n",
       "      <td>48.873492</td>\n",
       "      <td>2.295104</td>\n",
       "      <td>8.08</td>\n",
       "      <td>NaN</td>\n",
       "      <td>4.11</td>\n",
       "      <td>5.38</td>\n",
       "      <td>...</td>\n",
       "      <td>NaN</td>\n",
       "      <td>NaN</td>\n",
       "      <td>14</td>\n",
       "      <td>801</td>\n",
       "      <td>Clouds</td>\n",
       "      <td>few clouds</td>\n",
       "      <td>02n</td>\n",
       "      <td>1999-01-01 02:00:00</td>\n",
       "      <td>1999-01-01 02:00:00</td>\n",
       "      <td>1999-01-01</td>\n",
       "    </tr>\n",
       "    <tr>\n",
       "      <th>3</th>\n",
       "      <td>915159600</td>\n",
       "      <td>1999-01-01 03:00:00 +0000 UTC</td>\n",
       "      <td>3600</td>\n",
       "      <td>Custom location</td>\n",
       "      <td>48.873492</td>\n",
       "      <td>2.295104</td>\n",
       "      <td>7.31</td>\n",
       "      <td>NaN</td>\n",
       "      <td>3.73</td>\n",
       "      <td>4.42</td>\n",
       "      <td>...</td>\n",
       "      <td>NaN</td>\n",
       "      <td>NaN</td>\n",
       "      <td>39</td>\n",
       "      <td>802</td>\n",
       "      <td>Clouds</td>\n",
       "      <td>scattered clouds</td>\n",
       "      <td>03n</td>\n",
       "      <td>1999-01-01 03:00:00</td>\n",
       "      <td>1999-01-01 03:00:00</td>\n",
       "      <td>1999-01-01</td>\n",
       "    </tr>\n",
       "    <tr>\n",
       "      <th>4</th>\n",
       "      <td>915163200</td>\n",
       "      <td>1999-01-01 04:00:00 +0000 UTC</td>\n",
       "      <td>3600</td>\n",
       "      <td>Custom location</td>\n",
       "      <td>48.873492</td>\n",
       "      <td>2.295104</td>\n",
       "      <td>6.91</td>\n",
       "      <td>NaN</td>\n",
       "      <td>3.53</td>\n",
       "      <td>4.00</td>\n",
       "      <td>...</td>\n",
       "      <td>NaN</td>\n",
       "      <td>NaN</td>\n",
       "      <td>52</td>\n",
       "      <td>803</td>\n",
       "      <td>Clouds</td>\n",
       "      <td>broken clouds</td>\n",
       "      <td>04n</td>\n",
       "      <td>1999-01-01 04:00:00</td>\n",
       "      <td>1999-01-01 04:00:00</td>\n",
       "      <td>1999-01-01</td>\n",
       "    </tr>\n",
       "  </tbody>\n",
       "</table>\n",
       "<p>5 rows × 31 columns</p>\n",
       "</div>"
      ]
     },
     "execution_count": 54,
     "metadata": {},
     "output_type": "execute_result"
    }
   ],
   "execution_count": 54
  },
  {
   "metadata": {
    "ExecuteTime": {
     "end_time": "2025-04-18T08:28:46.018017Z",
     "start_time": "2025-04-18T08:28:46.014480Z"
    }
   },
   "cell_type": "code",
   "source": [
    "# Merge attendance with parks and weather\n",
    "att_pd = fact_attendance.merge(dim_park, on=\"PARK_ID\", how=\"left\")"
   ],
   "id": "7e1f77d17fc9ace",
   "outputs": [],
   "execution_count": 46
  },
  {
   "metadata": {
    "ExecuteTime": {
     "end_time": "2025-04-18T08:55:21.147411Z",
     "start_time": "2025-04-18T08:55:21.142945Z"
    }
   },
   "cell_type": "code",
   "source": "att_pd.head()",
   "id": "803d4fa38cf90b00",
   "outputs": [
    {
     "data": {
      "text/plain": [
       "   PARK_ID        DATE  ATTENDANCE                PARK\n",
       "0        2  2018-06-01       46804  PortAventura World\n",
       "1        1  2018-06-01       20420      Tivoli Gardens\n",
       "2        2  2018-06-02       57940  PortAventura World\n",
       "3        1  2018-06-02       29110      Tivoli Gardens\n",
       "4        2  2018-06-03       44365  PortAventura World"
      ],
      "text/html": [
       "<div>\n",
       "<style scoped>\n",
       "    .dataframe tbody tr th:only-of-type {\n",
       "        vertical-align: middle;\n",
       "    }\n",
       "\n",
       "    .dataframe tbody tr th {\n",
       "        vertical-align: top;\n",
       "    }\n",
       "\n",
       "    .dataframe thead th {\n",
       "        text-align: right;\n",
       "    }\n",
       "</style>\n",
       "<table border=\"1\" class=\"dataframe\">\n",
       "  <thead>\n",
       "    <tr style=\"text-align: right;\">\n",
       "      <th></th>\n",
       "      <th>PARK_ID</th>\n",
       "      <th>DATE</th>\n",
       "      <th>ATTENDANCE</th>\n",
       "      <th>PARK</th>\n",
       "    </tr>\n",
       "  </thead>\n",
       "  <tbody>\n",
       "    <tr>\n",
       "      <th>0</th>\n",
       "      <td>2</td>\n",
       "      <td>2018-06-01</td>\n",
       "      <td>46804</td>\n",
       "      <td>PortAventura World</td>\n",
       "    </tr>\n",
       "    <tr>\n",
       "      <th>1</th>\n",
       "      <td>1</td>\n",
       "      <td>2018-06-01</td>\n",
       "      <td>20420</td>\n",
       "      <td>Tivoli Gardens</td>\n",
       "    </tr>\n",
       "    <tr>\n",
       "      <th>2</th>\n",
       "      <td>2</td>\n",
       "      <td>2018-06-02</td>\n",
       "      <td>57940</td>\n",
       "      <td>PortAventura World</td>\n",
       "    </tr>\n",
       "    <tr>\n",
       "      <th>3</th>\n",
       "      <td>1</td>\n",
       "      <td>2018-06-02</td>\n",
       "      <td>29110</td>\n",
       "      <td>Tivoli Gardens</td>\n",
       "    </tr>\n",
       "    <tr>\n",
       "      <th>4</th>\n",
       "      <td>2</td>\n",
       "      <td>2018-06-03</td>\n",
       "      <td>44365</td>\n",
       "      <td>PortAventura World</td>\n",
       "    </tr>\n",
       "  </tbody>\n",
       "</table>\n",
       "</div>"
      ]
     },
     "execution_count": 55,
     "metadata": {},
     "output_type": "execute_result"
    }
   ],
   "execution_count": 55
  },
  {
   "metadata": {
    "ExecuteTime": {
     "end_time": "2025-04-18T09:04:04.179511Z",
     "start_time": "2025-04-18T09:04:04.177379Z"
    }
   },
   "cell_type": "code",
   "source": "#Capacity Utilization",
   "id": "8cedd9c710d37534",
   "outputs": [],
   "execution_count": 57
  },
  {
   "metadata": {
    "ExecuteTime": {
     "end_time": "2025-04-18T09:04:11.688566Z",
     "start_time": "2025-04-18T09:04:11.643823Z"
    }
   },
   "cell_type": "code",
   "source": [
    "fact_wait[\"UTIL\"] = fact_wait[\"GUEST_CARRIED\"] / fact_wait[\"CAPACITY\"]\n",
    "util = (\n",
    "    fact_wait.groupby(\"RIDE_ID\")[\"UTIL\"]\n",
    "    .mean()\n",
    "    .reset_index()\n",
    "    .merge(dim_ride[[\"RIDE_ID\",\"RIDE\"]], on=\"RIDE_ID\")\n",
    ")\n",
    "top10 = util.sort_values(\"UTIL\", ascending=False).head(10)"
   ],
   "id": "55f87ac23c8f5f2e",
   "outputs": [],
   "execution_count": 58
  },
  {
   "metadata": {},
   "cell_type": "code",
   "outputs": [],
   "execution_count": null,
   "source": "",
   "id": "c3a76af0e70526fe"
  },
  {
   "metadata": {},
   "cell_type": "code",
   "outputs": [],
   "execution_count": null,
   "source": "",
   "id": "c68ff1436d60f323"
  },
  {
   "metadata": {},
   "cell_type": "code",
   "outputs": [],
   "execution_count": null,
   "source": "",
   "id": "ce1a0321ef06325e"
  },
  {
   "metadata": {},
   "cell_type": "code",
   "outputs": [],
   "execution_count": null,
   "source": "",
   "id": "5011329f995b60e5"
  },
  {
   "metadata": {},
   "cell_type": "code",
   "outputs": [],
   "execution_count": null,
   "source": "",
   "id": "24c4bc4d52a0729"
  },
  {
   "metadata": {},
   "cell_type": "code",
   "outputs": [],
   "execution_count": null,
   "source": "",
   "id": "57e4d89c92bf2083"
  },
  {
   "metadata": {},
   "cell_type": "code",
   "outputs": [],
   "execution_count": null,
   "source": "",
   "id": "b585e9dedb6f6e0a"
  },
  {
   "metadata": {},
   "cell_type": "code",
   "outputs": [],
   "execution_count": null,
   "source": "",
   "id": "91fec243b9fbbabc"
  },
  {
   "metadata": {},
   "cell_type": "code",
   "outputs": [],
   "execution_count": null,
   "source": "",
   "id": "b9054e9a48caae"
  },
  {
   "metadata": {},
   "cell_type": "code",
   "outputs": [],
   "execution_count": null,
   "source": "",
   "id": "b95735f6a597beeb"
  },
  {
   "metadata": {},
   "cell_type": "code",
   "outputs": [],
   "execution_count": null,
   "source": "",
   "id": "d27c07ae880b4f27"
  }
 ],
 "metadata": {
  "kernelspec": {
   "display_name": "Python 3",
   "language": "python",
   "name": "python3"
  },
  "language_info": {
   "codemirror_mode": {
    "name": "ipython",
    "version": 2
   },
   "file_extension": ".py",
   "mimetype": "text/x-python",
   "name": "python",
   "nbconvert_exporter": "python",
   "pygments_lexer": "ipython2",
   "version": "2.7.6"
  }
 },
 "nbformat": 4,
 "nbformat_minor": 5
}
